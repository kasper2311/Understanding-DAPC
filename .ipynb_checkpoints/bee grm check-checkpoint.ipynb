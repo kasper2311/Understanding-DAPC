{
 "cells": [
  {
   "cell_type": "code",
   "execution_count": 23,
   "id": "6b1ed7bc",
   "metadata": {},
   "outputs": [],
   "source": [
    "import pandas as pd\n",
    "import numpy as np\n",
    "import os\n",
    "from sklearn.cluster import KMeans\n",
    "from sklearn.decomposition import PCA\n",
    "from numpy import linalg as LA\n",
    "import matplotlib.pyplot as plt\n",
    "#os.environ[\"OMP_NUM_THREADS\"] = '2'\n",
    "#prevents the memory leak warning from kmeans (my sklearn package isn't up to date)\n",
    "\n",
    "#Data taken from https://bmcecolevol.biomedcentral.com/articles/10.1186/s12862-022-01963-5\n",
    "#Specifically, this is the \"dpds\" dataset\n",
    "\n",
    "def centeroidnp(arr):\n",
    "    length = arr.shape[0]\n",
    "    sum_x = np.sum(arr[:, 0])\n",
    "    sum_y = np.sum(arr[:, 1])\n",
    "    return sum_x/length, sum_y/length\n",
    "\n",
    "def check_symmetric(a, rtol=1e-05, atol=1e-08):\n",
    "    return np.allclose(a, a.T, rtol=rtol, atol=atol)"
   ]
  },
  {
   "cell_type": "code",
   "execution_count": 2,
   "id": "59e82b53",
   "metadata": {},
   "outputs": [],
   "source": [
    "a = pd.read_table(\"unprocessed_bee_grm.tsv\")"
   ]
  },
  {
   "cell_type": "code",
   "execution_count": 3,
   "id": "7098e5b7",
   "metadata": {},
   "outputs": [
    {
     "data": {
      "text/html": [
       "<div>\n",
       "<style scoped>\n",
       "    .dataframe tbody tr th:only-of-type {\n",
       "        vertical-align: middle;\n",
       "    }\n",
       "\n",
       "    .dataframe tbody tr th {\n",
       "        vertical-align: top;\n",
       "    }\n",
       "\n",
       "    .dataframe thead th {\n",
       "        text-align: right;\n",
       "    }\n",
       "</style>\n",
       "<table border=\"1\" class=\"dataframe\">\n",
       "  <thead>\n",
       "    <tr style=\"text-align: right;\">\n",
       "      <th></th>\n",
       "      <th>Population</th>\n",
       "      <th>ms36</th>\n",
       "      <th>Unnamed: 3</th>\n",
       "      <th>ms116</th>\n",
       "      <th>Unnamed: 5</th>\n",
       "      <th>ms39</th>\n",
       "      <th>Unnamed: 7</th>\n",
       "      <th>ms80</th>\n",
       "      <th>Unnamed: 9</th>\n",
       "      <th>ms40</th>\n",
       "      <th>...</th>\n",
       "      <th>ms85</th>\n",
       "      <th>Unnamed: 17</th>\n",
       "      <th>ms41</th>\n",
       "      <th>Unnamed: 19</th>\n",
       "      <th>ms66</th>\n",
       "      <th>Unnamed: 21</th>\n",
       "      <th>ms86</th>\n",
       "      <th>Unnamed: 23</th>\n",
       "      <th>ms59</th>\n",
       "      <th>Unnamed: 25</th>\n",
       "    </tr>\n",
       "    <tr>\n",
       "      <th>Sample ID</th>\n",
       "      <th></th>\n",
       "      <th></th>\n",
       "      <th></th>\n",
       "      <th></th>\n",
       "      <th></th>\n",
       "      <th></th>\n",
       "      <th></th>\n",
       "      <th></th>\n",
       "      <th></th>\n",
       "      <th></th>\n",
       "      <th></th>\n",
       "      <th></th>\n",
       "      <th></th>\n",
       "      <th></th>\n",
       "      <th></th>\n",
       "      <th></th>\n",
       "      <th></th>\n",
       "      <th></th>\n",
       "      <th></th>\n",
       "      <th></th>\n",
       "      <th></th>\n",
       "    </tr>\n",
       "  </thead>\n",
       "  <tbody>\n",
       "    <tr>\n",
       "      <th>2013_Bt_0312</th>\n",
       "      <td>Poienita</td>\n",
       "      <td>217</td>\n",
       "      <td>217</td>\n",
       "      <td>349</td>\n",
       "      <td>355</td>\n",
       "      <td>222</td>\n",
       "      <td>222</td>\n",
       "      <td>277</td>\n",
       "      <td>280</td>\n",
       "      <td>183</td>\n",
       "      <td>...</td>\n",
       "      <td>267</td>\n",
       "      <td>267</td>\n",
       "      <td>228</td>\n",
       "      <td>237</td>\n",
       "      <td>147</td>\n",
       "      <td>150</td>\n",
       "      <td>286</td>\n",
       "      <td>286</td>\n",
       "      <td>346</td>\n",
       "      <td>350</td>\n",
       "    </tr>\n",
       "    <tr>\n",
       "      <th>2013_Bt_0313</th>\n",
       "      <td>Poienita</td>\n",
       "      <td>226</td>\n",
       "      <td>229</td>\n",
       "      <td>349</td>\n",
       "      <td>358</td>\n",
       "      <td>222</td>\n",
       "      <td>222</td>\n",
       "      <td>277</td>\n",
       "      <td>280</td>\n",
       "      <td>195</td>\n",
       "      <td>...</td>\n",
       "      <td>267</td>\n",
       "      <td>267</td>\n",
       "      <td>228</td>\n",
       "      <td>237</td>\n",
       "      <td>150</td>\n",
       "      <td>156</td>\n",
       "      <td>286</td>\n",
       "      <td>286</td>\n",
       "      <td>350</td>\n",
       "      <td>354</td>\n",
       "    </tr>\n",
       "    <tr>\n",
       "      <th>2013_Bt_0314</th>\n",
       "      <td>Poienita</td>\n",
       "      <td>232</td>\n",
       "      <td>235</td>\n",
       "      <td>349</td>\n",
       "      <td>355</td>\n",
       "      <td>228</td>\n",
       "      <td>231</td>\n",
       "      <td>274</td>\n",
       "      <td>280</td>\n",
       "      <td>195</td>\n",
       "      <td>...</td>\n",
       "      <td>267</td>\n",
       "      <td>267</td>\n",
       "      <td>228</td>\n",
       "      <td>228</td>\n",
       "      <td>150</td>\n",
       "      <td>153</td>\n",
       "      <td>286</td>\n",
       "      <td>289</td>\n",
       "      <td>354</td>\n",
       "      <td>354</td>\n",
       "    </tr>\n",
       "    <tr>\n",
       "      <th>2013_Bt_0315</th>\n",
       "      <td>Poienita</td>\n",
       "      <td>226</td>\n",
       "      <td>241</td>\n",
       "      <td>349</td>\n",
       "      <td>355</td>\n",
       "      <td>222</td>\n",
       "      <td>225</td>\n",
       "      <td>277</td>\n",
       "      <td>277</td>\n",
       "      <td>195</td>\n",
       "      <td>...</td>\n",
       "      <td>267</td>\n",
       "      <td>267</td>\n",
       "      <td>228</td>\n",
       "      <td>228</td>\n",
       "      <td>135</td>\n",
       "      <td>156</td>\n",
       "      <td>286</td>\n",
       "      <td>286</td>\n",
       "      <td>350</td>\n",
       "      <td>358</td>\n",
       "    </tr>\n",
       "    <tr>\n",
       "      <th>2013_Bt_0317</th>\n",
       "      <td>Poienita</td>\n",
       "      <td>232</td>\n",
       "      <td>238</td>\n",
       "      <td>355</td>\n",
       "      <td>355</td>\n",
       "      <td>222</td>\n",
       "      <td>222</td>\n",
       "      <td>277</td>\n",
       "      <td>277</td>\n",
       "      <td>195</td>\n",
       "      <td>...</td>\n",
       "      <td>267</td>\n",
       "      <td>267</td>\n",
       "      <td>228</td>\n",
       "      <td>228</td>\n",
       "      <td>144</td>\n",
       "      <td>156</td>\n",
       "      <td>286</td>\n",
       "      <td>289</td>\n",
       "      <td>342</td>\n",
       "      <td>354</td>\n",
       "    </tr>\n",
       "    <tr>\n",
       "      <th>...</th>\n",
       "      <td>...</td>\n",
       "      <td>...</td>\n",
       "      <td>...</td>\n",
       "      <td>...</td>\n",
       "      <td>...</td>\n",
       "      <td>...</td>\n",
       "      <td>...</td>\n",
       "      <td>...</td>\n",
       "      <td>...</td>\n",
       "      <td>...</td>\n",
       "      <td>...</td>\n",
       "      <td>...</td>\n",
       "      <td>...</td>\n",
       "      <td>...</td>\n",
       "      <td>...</td>\n",
       "      <td>...</td>\n",
       "      <td>...</td>\n",
       "      <td>...</td>\n",
       "      <td>...</td>\n",
       "      <td>...</td>\n",
       "      <td>...</td>\n",
       "    </tr>\n",
       "    <tr>\n",
       "      <th>2013_Bt_0185</th>\n",
       "      <td>Orsova</td>\n",
       "      <td>214</td>\n",
       "      <td>226</td>\n",
       "      <td>355</td>\n",
       "      <td>355</td>\n",
       "      <td>222</td>\n",
       "      <td>225</td>\n",
       "      <td>277</td>\n",
       "      <td>277</td>\n",
       "      <td>198</td>\n",
       "      <td>...</td>\n",
       "      <td>267</td>\n",
       "      <td>267</td>\n",
       "      <td>228</td>\n",
       "      <td>228</td>\n",
       "      <td>150</td>\n",
       "      <td>156</td>\n",
       "      <td>286</td>\n",
       "      <td>289</td>\n",
       "      <td>354</td>\n",
       "      <td>354</td>\n",
       "    </tr>\n",
       "    <tr>\n",
       "      <th>2013_Bt_0186</th>\n",
       "      <td>Orsova</td>\n",
       "      <td>229</td>\n",
       "      <td>232</td>\n",
       "      <td>349</td>\n",
       "      <td>364</td>\n",
       "      <td>222</td>\n",
       "      <td>225</td>\n",
       "      <td>274</td>\n",
       "      <td>277</td>\n",
       "      <td>198</td>\n",
       "      <td>...</td>\n",
       "      <td>267</td>\n",
       "      <td>267</td>\n",
       "      <td>228</td>\n",
       "      <td>228</td>\n",
       "      <td>156</td>\n",
       "      <td>162</td>\n",
       "      <td>280</td>\n",
       "      <td>286</td>\n",
       "      <td>350</td>\n",
       "      <td>350</td>\n",
       "    </tr>\n",
       "    <tr>\n",
       "      <th>2013_Bt_0187</th>\n",
       "      <td>Orsova</td>\n",
       "      <td>217</td>\n",
       "      <td>238</td>\n",
       "      <td>355</td>\n",
       "      <td>355</td>\n",
       "      <td>222</td>\n",
       "      <td>222</td>\n",
       "      <td>277</td>\n",
       "      <td>277</td>\n",
       "      <td>183</td>\n",
       "      <td>...</td>\n",
       "      <td>267</td>\n",
       "      <td>267</td>\n",
       "      <td>228</td>\n",
       "      <td>228</td>\n",
       "      <td>144</td>\n",
       "      <td>156</td>\n",
       "      <td>286</td>\n",
       "      <td>289</td>\n",
       "      <td>354</td>\n",
       "      <td>358</td>\n",
       "    </tr>\n",
       "    <tr>\n",
       "      <th>2013_Bt_0188</th>\n",
       "      <td>Orsova</td>\n",
       "      <td>232</td>\n",
       "      <td>232</td>\n",
       "      <td>355</td>\n",
       "      <td>355</td>\n",
       "      <td>225</td>\n",
       "      <td>225</td>\n",
       "      <td>274</td>\n",
       "      <td>277</td>\n",
       "      <td>195</td>\n",
       "      <td>...</td>\n",
       "      <td>267</td>\n",
       "      <td>267</td>\n",
       "      <td>228</td>\n",
       "      <td>228</td>\n",
       "      <td>150</td>\n",
       "      <td>153</td>\n",
       "      <td>280</td>\n",
       "      <td>283</td>\n",
       "      <td>350</td>\n",
       "      <td>350</td>\n",
       "    </tr>\n",
       "    <tr>\n",
       "      <th>2013_Bt_0191</th>\n",
       "      <td>Orsova</td>\n",
       "      <td>211</td>\n",
       "      <td>217</td>\n",
       "      <td>355</td>\n",
       "      <td>355</td>\n",
       "      <td>222</td>\n",
       "      <td>228</td>\n",
       "      <td>277</td>\n",
       "      <td>280</td>\n",
       "      <td>198</td>\n",
       "      <td>...</td>\n",
       "      <td>267</td>\n",
       "      <td>267</td>\n",
       "      <td>228</td>\n",
       "      <td>228</td>\n",
       "      <td>156</td>\n",
       "      <td>156</td>\n",
       "      <td>286</td>\n",
       "      <td>286</td>\n",
       "      <td>358</td>\n",
       "      <td>366</td>\n",
       "    </tr>\n",
       "  </tbody>\n",
       "</table>\n",
       "<p>304 rows × 25 columns</p>\n",
       "</div>"
      ],
      "text/plain": [
       "             Population  ms36  Unnamed: 3  ms116  Unnamed: 5  ms39  \\\n",
       "Sample ID                                                            \n",
       "2013_Bt_0312   Poienita   217         217    349         355   222   \n",
       "2013_Bt_0313   Poienita   226         229    349         358   222   \n",
       "2013_Bt_0314   Poienita   232         235    349         355   228   \n",
       "2013_Bt_0315   Poienita   226         241    349         355   222   \n",
       "2013_Bt_0317   Poienita   232         238    355         355   222   \n",
       "...                 ...   ...         ...    ...         ...   ...   \n",
       "2013_Bt_0185     Orsova   214         226    355         355   222   \n",
       "2013_Bt_0186     Orsova   229         232    349         364   222   \n",
       "2013_Bt_0187     Orsova   217         238    355         355   222   \n",
       "2013_Bt_0188     Orsova   232         232    355         355   225   \n",
       "2013_Bt_0191     Orsova   211         217    355         355   222   \n",
       "\n",
       "              Unnamed: 7  ms80  Unnamed: 9  ms40  ...  ms85  Unnamed: 17  \\\n",
       "Sample ID                                         ...                      \n",
       "2013_Bt_0312         222   277         280   183  ...   267          267   \n",
       "2013_Bt_0313         222   277         280   195  ...   267          267   \n",
       "2013_Bt_0314         231   274         280   195  ...   267          267   \n",
       "2013_Bt_0315         225   277         277   195  ...   267          267   \n",
       "2013_Bt_0317         222   277         277   195  ...   267          267   \n",
       "...                  ...   ...         ...   ...  ...   ...          ...   \n",
       "2013_Bt_0185         225   277         277   198  ...   267          267   \n",
       "2013_Bt_0186         225   274         277   198  ...   267          267   \n",
       "2013_Bt_0187         222   277         277   183  ...   267          267   \n",
       "2013_Bt_0188         225   274         277   195  ...   267          267   \n",
       "2013_Bt_0191         228   277         280   198  ...   267          267   \n",
       "\n",
       "              ms41  Unnamed: 19  ms66  Unnamed: 21  ms86  Unnamed: 23  ms59  \\\n",
       "Sample ID                                                                     \n",
       "2013_Bt_0312   228          237   147          150   286          286   346   \n",
       "2013_Bt_0313   228          237   150          156   286          286   350   \n",
       "2013_Bt_0314   228          228   150          153   286          289   354   \n",
       "2013_Bt_0315   228          228   135          156   286          286   350   \n",
       "2013_Bt_0317   228          228   144          156   286          289   342   \n",
       "...            ...          ...   ...          ...   ...          ...   ...   \n",
       "2013_Bt_0185   228          228   150          156   286          289   354   \n",
       "2013_Bt_0186   228          228   156          162   280          286   350   \n",
       "2013_Bt_0187   228          228   144          156   286          289   354   \n",
       "2013_Bt_0188   228          228   150          153   280          283   350   \n",
       "2013_Bt_0191   228          228   156          156   286          286   358   \n",
       "\n",
       "              Unnamed: 25  \n",
       "Sample ID                  \n",
       "2013_Bt_0312          350  \n",
       "2013_Bt_0313          354  \n",
       "2013_Bt_0314          354  \n",
       "2013_Bt_0315          358  \n",
       "2013_Bt_0317          354  \n",
       "...                   ...  \n",
       "2013_Bt_0185          354  \n",
       "2013_Bt_0186          350  \n",
       "2013_Bt_0187          358  \n",
       "2013_Bt_0188          350  \n",
       "2013_Bt_0191          366  \n",
       "\n",
       "[304 rows x 25 columns]"
      ]
     },
     "execution_count": 3,
     "metadata": {},
     "output_type": "execute_result"
    }
   ],
   "source": [
    "a = a.set_index(\"Sample ID\",drop=True)\n",
    "#Missing data to be imputed as the most common allele at that site... but first, recode\n",
    "a"
   ]
  },
  {
   "cell_type": "code",
   "execution_count": 4,
   "id": "3815ba13",
   "metadata": {},
   "outputs": [],
   "source": [
    "colnames2 = dict(zip(a.columns[2::2],[item +\"_y\" for item in  a.columns[1::2]]))"
   ]
  },
  {
   "cell_type": "code",
   "execution_count": 5,
   "id": "4a8917d5",
   "metadata": {},
   "outputs": [],
   "source": [
    "a = a.rename(columns=colnames2)"
   ]
  },
  {
   "cell_type": "code",
   "execution_count": 6,
   "id": "2cde38e0",
   "metadata": {},
   "outputs": [],
   "source": [
    "sites = list(a.columns[1::2])\n",
    "sites2 = list(a.columns[2::2])"
   ]
  },
  {
   "cell_type": "code",
   "execution_count": 7,
   "id": "faef8f40",
   "metadata": {},
   "outputs": [],
   "source": [
    "totaluniq = dict()\n",
    "hapfreqs = dict()\n",
    "for cola,colb in zip(sites,sites2):\n",
    "    c1 = a.groupby(cola).size()\n",
    "    c2 = a.groupby(colb).size()\n",
    "    fullset = list(set(c1.index).union(set(c2.index)))\n",
    "    for allele in fullset:\n",
    "        if allele not in c1.index:\n",
    "            c1[allele] = 0\n",
    "        if allele not in c2.index:\n",
    "            c2[allele] = 0\n",
    "        \n",
    "    ctotal = c1 + c2\n",
    "    #What is the maximum\n",
    "    mmax = ctotal.index[ctotal.argmax()]\n",
    "    a[cola] = a[cola].replace(0,mmax)\n",
    "    a[colb] = a[colb].replace(0,mmax)\n",
    "    totaluniq[cola] =[k for k in list(ctotal.index) if k != 0]\n",
    "    totaluniq[cola].sort()\n",
    "    \n",
    "    #Now do the haplotype freqs again\n",
    "    c3 = a.groupby(cola).size()\n",
    "    c4 = a.groupby(colb).size()\n",
    "    fullset = list(set(c3.index).union(set(c4.index)))\n",
    "    for allele in fullset:\n",
    "        if allele not in c3.index:\n",
    "            c3[allele] = 0\n",
    "        if allele not in c4.index:\n",
    "            c4[allele] = 0\n",
    "        \n",
    "    ctotal = c3 + c4\n",
    "    hapfreqs[cola] = ctotal/ctotal.sum()"
   ]
  },
  {
   "cell_type": "code",
   "execution_count": 8,
   "id": "a892c00d",
   "metadata": {},
   "outputs": [],
   "source": [
    "#now recode the sites\n",
    "#Column indices will go from 1 to 98\n",
    "fin = dict()\n",
    "for cola,colb in zip(sites,sites2):\n",
    "    #recode as haplotype... rows contain sample ids... columns contain site\n",
    "    #cola provides the indices as they should apply to the sites...\n",
    "    m_idx = sites.index(cola)\n",
    "    for sample in a.index:\n",
    "        #Determine the genotype at that site\n",
    "        g1 = a[cola][sample]\n",
    "        g2 = a[colb][sample]\n",
    "#         g1_idx = (m_idx + 1)*(totaluniq[cola].index(g1) + 1) - 1\n",
    "#         g2_idx = (m_idx + 1)*(totaluniq[cola].index(g2) + 1) - 1\n",
    "        try:\n",
    "            fin[cola + \"_\" + str(g1)][sample] += 1\n",
    "        except:\n",
    "            try:\n",
    "                fin[cola + \"_\" + str(g1)][sample] = 1\n",
    "            except:\n",
    "                fin[cola + \"_\" + str(g1)] = dict()\n",
    "                fin[cola + \"_\" + str(g1)][sample] = 1\n",
    "        \n",
    "        try:\n",
    "            fin[cola + \"_\" + str(g2)][sample] += 1\n",
    "        except:\n",
    "            try:\n",
    "                fin[cola + \"_\" + str(g2)][sample] = 1\n",
    "            except:\n",
    "                fin[cola + \"_\" + str(g2)] = dict()\n",
    "                fin[cola + \"_\" + str(g2)][sample] = 1"
   ]
  },
  {
   "cell_type": "code",
   "execution_count": 9,
   "id": "b360dbf6",
   "metadata": {},
   "outputs": [],
   "source": [
    "recoded_grm_precursor = pd.DataFrame(fin)"
   ]
  },
  {
   "cell_type": "code",
   "execution_count": 10,
   "id": "034a8afc",
   "metadata": {},
   "outputs": [],
   "source": [
    "recoded_grm_precursor = recoded_grm_precursor.fillna(0)"
   ]
  },
  {
   "cell_type": "code",
   "execution_count": 11,
   "id": "643c8250",
   "metadata": {},
   "outputs": [
    {
     "data": {
      "text/html": [
       "<div>\n",
       "<style scoped>\n",
       "    .dataframe tbody tr th:only-of-type {\n",
       "        vertical-align: middle;\n",
       "    }\n",
       "\n",
       "    .dataframe tbody tr th {\n",
       "        vertical-align: top;\n",
       "    }\n",
       "\n",
       "    .dataframe thead th {\n",
       "        text-align: right;\n",
       "    }\n",
       "</style>\n",
       "<table border=\"1\" class=\"dataframe\">\n",
       "  <thead>\n",
       "    <tr style=\"text-align: right;\">\n",
       "      <th></th>\n",
       "      <th>ms36_217</th>\n",
       "      <th>ms36_226</th>\n",
       "      <th>ms36_229</th>\n",
       "      <th>ms36_232</th>\n",
       "      <th>ms36_235</th>\n",
       "      <th>ms36_241</th>\n",
       "      <th>ms36_238</th>\n",
       "      <th>ms36_223</th>\n",
       "      <th>ms36_220</th>\n",
       "      <th>ms36_211</th>\n",
       "      <th>...</th>\n",
       "      <th>ms86_298</th>\n",
       "      <th>ms59_346</th>\n",
       "      <th>ms59_350</th>\n",
       "      <th>ms59_354</th>\n",
       "      <th>ms59_358</th>\n",
       "      <th>ms59_342</th>\n",
       "      <th>ms59_362</th>\n",
       "      <th>ms59_366</th>\n",
       "      <th>ms59_370</th>\n",
       "      <th>ms59_338</th>\n",
       "    </tr>\n",
       "  </thead>\n",
       "  <tbody>\n",
       "    <tr>\n",
       "      <th>2013_Bt_0312</th>\n",
       "      <td>2.0</td>\n",
       "      <td>0.0</td>\n",
       "      <td>0.0</td>\n",
       "      <td>0.0</td>\n",
       "      <td>0.0</td>\n",
       "      <td>0.0</td>\n",
       "      <td>0.0</td>\n",
       "      <td>0.0</td>\n",
       "      <td>0.0</td>\n",
       "      <td>0.0</td>\n",
       "      <td>...</td>\n",
       "      <td>0.0</td>\n",
       "      <td>1.0</td>\n",
       "      <td>1.0</td>\n",
       "      <td>0.0</td>\n",
       "      <td>0.0</td>\n",
       "      <td>0.0</td>\n",
       "      <td>0.0</td>\n",
       "      <td>0.0</td>\n",
       "      <td>0.0</td>\n",
       "      <td>0.0</td>\n",
       "    </tr>\n",
       "    <tr>\n",
       "      <th>Bt_2014_106</th>\n",
       "      <td>2.0</td>\n",
       "      <td>0.0</td>\n",
       "      <td>0.0</td>\n",
       "      <td>0.0</td>\n",
       "      <td>0.0</td>\n",
       "      <td>0.0</td>\n",
       "      <td>0.0</td>\n",
       "      <td>0.0</td>\n",
       "      <td>0.0</td>\n",
       "      <td>0.0</td>\n",
       "      <td>...</td>\n",
       "      <td>0.0</td>\n",
       "      <td>0.0</td>\n",
       "      <td>0.0</td>\n",
       "      <td>1.0</td>\n",
       "      <td>0.0</td>\n",
       "      <td>0.0</td>\n",
       "      <td>0.0</td>\n",
       "      <td>1.0</td>\n",
       "      <td>0.0</td>\n",
       "      <td>0.0</td>\n",
       "    </tr>\n",
       "    <tr>\n",
       "      <th>Bt_2014_107</th>\n",
       "      <td>1.0</td>\n",
       "      <td>1.0</td>\n",
       "      <td>0.0</td>\n",
       "      <td>0.0</td>\n",
       "      <td>0.0</td>\n",
       "      <td>0.0</td>\n",
       "      <td>0.0</td>\n",
       "      <td>0.0</td>\n",
       "      <td>0.0</td>\n",
       "      <td>0.0</td>\n",
       "      <td>...</td>\n",
       "      <td>0.0</td>\n",
       "      <td>0.0</td>\n",
       "      <td>1.0</td>\n",
       "      <td>1.0</td>\n",
       "      <td>0.0</td>\n",
       "      <td>0.0</td>\n",
       "      <td>0.0</td>\n",
       "      <td>0.0</td>\n",
       "      <td>0.0</td>\n",
       "      <td>0.0</td>\n",
       "    </tr>\n",
       "    <tr>\n",
       "      <th>Bt_2014_110</th>\n",
       "      <td>2.0</td>\n",
       "      <td>0.0</td>\n",
       "      <td>0.0</td>\n",
       "      <td>0.0</td>\n",
       "      <td>0.0</td>\n",
       "      <td>0.0</td>\n",
       "      <td>0.0</td>\n",
       "      <td>0.0</td>\n",
       "      <td>0.0</td>\n",
       "      <td>0.0</td>\n",
       "      <td>...</td>\n",
       "      <td>0.0</td>\n",
       "      <td>0.0</td>\n",
       "      <td>1.0</td>\n",
       "      <td>1.0</td>\n",
       "      <td>0.0</td>\n",
       "      <td>0.0</td>\n",
       "      <td>0.0</td>\n",
       "      <td>0.0</td>\n",
       "      <td>0.0</td>\n",
       "      <td>0.0</td>\n",
       "    </tr>\n",
       "    <tr>\n",
       "      <th>Bt_2014_111</th>\n",
       "      <td>1.0</td>\n",
       "      <td>0.0</td>\n",
       "      <td>0.0</td>\n",
       "      <td>0.0</td>\n",
       "      <td>1.0</td>\n",
       "      <td>0.0</td>\n",
       "      <td>0.0</td>\n",
       "      <td>0.0</td>\n",
       "      <td>0.0</td>\n",
       "      <td>0.0</td>\n",
       "      <td>...</td>\n",
       "      <td>0.0</td>\n",
       "      <td>0.0</td>\n",
       "      <td>0.0</td>\n",
       "      <td>2.0</td>\n",
       "      <td>0.0</td>\n",
       "      <td>0.0</td>\n",
       "      <td>0.0</td>\n",
       "      <td>0.0</td>\n",
       "      <td>0.0</td>\n",
       "      <td>0.0</td>\n",
       "    </tr>\n",
       "    <tr>\n",
       "      <th>...</th>\n",
       "      <td>...</td>\n",
       "      <td>...</td>\n",
       "      <td>...</td>\n",
       "      <td>...</td>\n",
       "      <td>...</td>\n",
       "      <td>...</td>\n",
       "      <td>...</td>\n",
       "      <td>...</td>\n",
       "      <td>...</td>\n",
       "      <td>...</td>\n",
       "      <td>...</td>\n",
       "      <td>...</td>\n",
       "      <td>...</td>\n",
       "      <td>...</td>\n",
       "      <td>...</td>\n",
       "      <td>...</td>\n",
       "      <td>...</td>\n",
       "      <td>...</td>\n",
       "      <td>...</td>\n",
       "      <td>...</td>\n",
       "      <td>...</td>\n",
       "    </tr>\n",
       "    <tr>\n",
       "      <th>Bt_2014_128</th>\n",
       "      <td>0.0</td>\n",
       "      <td>0.0</td>\n",
       "      <td>0.0</td>\n",
       "      <td>0.0</td>\n",
       "      <td>0.0</td>\n",
       "      <td>0.0</td>\n",
       "      <td>0.0</td>\n",
       "      <td>0.0</td>\n",
       "      <td>1.0</td>\n",
       "      <td>1.0</td>\n",
       "      <td>...</td>\n",
       "      <td>0.0</td>\n",
       "      <td>0.0</td>\n",
       "      <td>1.0</td>\n",
       "      <td>0.0</td>\n",
       "      <td>1.0</td>\n",
       "      <td>0.0</td>\n",
       "      <td>0.0</td>\n",
       "      <td>0.0</td>\n",
       "      <td>0.0</td>\n",
       "      <td>0.0</td>\n",
       "    </tr>\n",
       "    <tr>\n",
       "      <th>Bt_2014_232</th>\n",
       "      <td>0.0</td>\n",
       "      <td>0.0</td>\n",
       "      <td>0.0</td>\n",
       "      <td>0.0</td>\n",
       "      <td>0.0</td>\n",
       "      <td>0.0</td>\n",
       "      <td>0.0</td>\n",
       "      <td>0.0</td>\n",
       "      <td>1.0</td>\n",
       "      <td>1.0</td>\n",
       "      <td>...</td>\n",
       "      <td>0.0</td>\n",
       "      <td>0.0</td>\n",
       "      <td>1.0</td>\n",
       "      <td>1.0</td>\n",
       "      <td>0.0</td>\n",
       "      <td>0.0</td>\n",
       "      <td>0.0</td>\n",
       "      <td>0.0</td>\n",
       "      <td>0.0</td>\n",
       "      <td>0.0</td>\n",
       "    </tr>\n",
       "    <tr>\n",
       "      <th>2017_Bombus_355</th>\n",
       "      <td>0.0</td>\n",
       "      <td>0.0</td>\n",
       "      <td>0.0</td>\n",
       "      <td>0.0</td>\n",
       "      <td>0.0</td>\n",
       "      <td>0.0</td>\n",
       "      <td>0.0</td>\n",
       "      <td>0.0</td>\n",
       "      <td>2.0</td>\n",
       "      <td>0.0</td>\n",
       "      <td>...</td>\n",
       "      <td>0.0</td>\n",
       "      <td>1.0</td>\n",
       "      <td>0.0</td>\n",
       "      <td>1.0</td>\n",
       "      <td>0.0</td>\n",
       "      <td>0.0</td>\n",
       "      <td>0.0</td>\n",
       "      <td>0.0</td>\n",
       "      <td>0.0</td>\n",
       "      <td>0.0</td>\n",
       "    </tr>\n",
       "    <tr>\n",
       "      <th>2013_Bt_0142</th>\n",
       "      <td>0.0</td>\n",
       "      <td>0.0</td>\n",
       "      <td>0.0</td>\n",
       "      <td>0.0</td>\n",
       "      <td>0.0</td>\n",
       "      <td>0.0</td>\n",
       "      <td>0.0</td>\n",
       "      <td>0.0</td>\n",
       "      <td>2.0</td>\n",
       "      <td>0.0</td>\n",
       "      <td>...</td>\n",
       "      <td>1.0</td>\n",
       "      <td>0.0</td>\n",
       "      <td>2.0</td>\n",
       "      <td>0.0</td>\n",
       "      <td>0.0</td>\n",
       "      <td>0.0</td>\n",
       "      <td>0.0</td>\n",
       "      <td>0.0</td>\n",
       "      <td>0.0</td>\n",
       "      <td>0.0</td>\n",
       "    </tr>\n",
       "    <tr>\n",
       "      <th>2017_Bombus_109</th>\n",
       "      <td>0.0</td>\n",
       "      <td>0.0</td>\n",
       "      <td>0.0</td>\n",
       "      <td>0.0</td>\n",
       "      <td>0.0</td>\n",
       "      <td>0.0</td>\n",
       "      <td>0.0</td>\n",
       "      <td>0.0</td>\n",
       "      <td>0.0</td>\n",
       "      <td>2.0</td>\n",
       "      <td>...</td>\n",
       "      <td>0.0</td>\n",
       "      <td>0.0</td>\n",
       "      <td>0.0</td>\n",
       "      <td>0.0</td>\n",
       "      <td>1.0</td>\n",
       "      <td>0.0</td>\n",
       "      <td>0.0</td>\n",
       "      <td>1.0</td>\n",
       "      <td>0.0</td>\n",
       "      <td>0.0</td>\n",
       "    </tr>\n",
       "  </tbody>\n",
       "</table>\n",
       "<p>304 rows × 98 columns</p>\n",
       "</div>"
      ],
      "text/plain": [
       "                 ms36_217  ms36_226  ms36_229  ms36_232  ms36_235  ms36_241  \\\n",
       "2013_Bt_0312          2.0       0.0       0.0       0.0       0.0       0.0   \n",
       "Bt_2014_106           2.0       0.0       0.0       0.0       0.0       0.0   \n",
       "Bt_2014_107           1.0       1.0       0.0       0.0       0.0       0.0   \n",
       "Bt_2014_110           2.0       0.0       0.0       0.0       0.0       0.0   \n",
       "Bt_2014_111           1.0       0.0       0.0       0.0       1.0       0.0   \n",
       "...                   ...       ...       ...       ...       ...       ...   \n",
       "Bt_2014_128           0.0       0.0       0.0       0.0       0.0       0.0   \n",
       "Bt_2014_232           0.0       0.0       0.0       0.0       0.0       0.0   \n",
       "2017_Bombus_355       0.0       0.0       0.0       0.0       0.0       0.0   \n",
       "2013_Bt_0142          0.0       0.0       0.0       0.0       0.0       0.0   \n",
       "2017_Bombus_109       0.0       0.0       0.0       0.0       0.0       0.0   \n",
       "\n",
       "                 ms36_238  ms36_223  ms36_220  ms36_211  ...  ms86_298  \\\n",
       "2013_Bt_0312          0.0       0.0       0.0       0.0  ...       0.0   \n",
       "Bt_2014_106           0.0       0.0       0.0       0.0  ...       0.0   \n",
       "Bt_2014_107           0.0       0.0       0.0       0.0  ...       0.0   \n",
       "Bt_2014_110           0.0       0.0       0.0       0.0  ...       0.0   \n",
       "Bt_2014_111           0.0       0.0       0.0       0.0  ...       0.0   \n",
       "...                   ...       ...       ...       ...  ...       ...   \n",
       "Bt_2014_128           0.0       0.0       1.0       1.0  ...       0.0   \n",
       "Bt_2014_232           0.0       0.0       1.0       1.0  ...       0.0   \n",
       "2017_Bombus_355       0.0       0.0       2.0       0.0  ...       0.0   \n",
       "2013_Bt_0142          0.0       0.0       2.0       0.0  ...       1.0   \n",
       "2017_Bombus_109       0.0       0.0       0.0       2.0  ...       0.0   \n",
       "\n",
       "                 ms59_346  ms59_350  ms59_354  ms59_358  ms59_342  ms59_362  \\\n",
       "2013_Bt_0312          1.0       1.0       0.0       0.0       0.0       0.0   \n",
       "Bt_2014_106           0.0       0.0       1.0       0.0       0.0       0.0   \n",
       "Bt_2014_107           0.0       1.0       1.0       0.0       0.0       0.0   \n",
       "Bt_2014_110           0.0       1.0       1.0       0.0       0.0       0.0   \n",
       "Bt_2014_111           0.0       0.0       2.0       0.0       0.0       0.0   \n",
       "...                   ...       ...       ...       ...       ...       ...   \n",
       "Bt_2014_128           0.0       1.0       0.0       1.0       0.0       0.0   \n",
       "Bt_2014_232           0.0       1.0       1.0       0.0       0.0       0.0   \n",
       "2017_Bombus_355       1.0       0.0       1.0       0.0       0.0       0.0   \n",
       "2013_Bt_0142          0.0       2.0       0.0       0.0       0.0       0.0   \n",
       "2017_Bombus_109       0.0       0.0       0.0       1.0       0.0       0.0   \n",
       "\n",
       "                 ms59_366  ms59_370  ms59_338  \n",
       "2013_Bt_0312          0.0       0.0       0.0  \n",
       "Bt_2014_106           1.0       0.0       0.0  \n",
       "Bt_2014_107           0.0       0.0       0.0  \n",
       "Bt_2014_110           0.0       0.0       0.0  \n",
       "Bt_2014_111           0.0       0.0       0.0  \n",
       "...                   ...       ...       ...  \n",
       "Bt_2014_128           0.0       0.0       0.0  \n",
       "Bt_2014_232           0.0       0.0       0.0  \n",
       "2017_Bombus_355       0.0       0.0       0.0  \n",
       "2013_Bt_0142          0.0       0.0       0.0  \n",
       "2017_Bombus_109       1.0       0.0       0.0  \n",
       "\n",
       "[304 rows x 98 columns]"
      ]
     },
     "execution_count": 11,
     "metadata": {},
     "output_type": "execute_result"
    }
   ],
   "source": [
    "recoded_grm_precursor"
   ]
  },
  {
   "cell_type": "code",
   "execution_count": 12,
   "id": "9527adb5",
   "metadata": {},
   "outputs": [],
   "source": [
    "#To perform centering... we need the frequencies\n",
    "len_col = recoded_grm_precursor.shape[0]\n",
    "sigma = 0.0\n",
    "tosubtract = dict()\n",
    "for col in recoded_grm_precursor.columns:\n",
    "    site,allele = col.split(\"_\")\n",
    "    allele = int(allele)\n",
    "    mfreq = hapfreqs[site][allele]\n",
    "    sigma += mfreq*(1 - mfreq)\n",
    "    tosubtract[col] = dict(zip(recoded_grm_precursor.index,[mfreq*2]*len_col))"
   ]
  },
  {
   "cell_type": "code",
   "execution_count": 13,
   "id": "48bd1df3",
   "metadata": {},
   "outputs": [],
   "source": [
    "todivide = sigma*2."
   ]
  },
  {
   "cell_type": "code",
   "execution_count": 14,
   "id": "c95db237",
   "metadata": {},
   "outputs": [],
   "source": [
    "tosubtractdf = pd.DataFrame(tosubtract)"
   ]
  },
  {
   "cell_type": "code",
   "execution_count": 15,
   "id": "ae107fa1",
   "metadata": {},
   "outputs": [],
   "source": [
    "Z = recoded_grm_precursor - tosubtractdf"
   ]
  },
  {
   "cell_type": "code",
   "execution_count": 21,
   "id": "87f19f38",
   "metadata": {
    "scrolled": true
   },
   "outputs": [],
   "source": []
  },
  {
   "cell_type": "code",
   "execution_count": 22,
   "id": "7829b810",
   "metadata": {},
   "outputs": [],
   "source": [
    "\n",
    "\n",
    "def getbic(prediction,xu,thenum):\n",
    "    #Calculates Bayes information criterion given the predicted group of each sample ,sample matrix, \\\n",
    "    #and number of groups\n",
    "    wss = calculate_withingroupvariance(prediction,xu,thenum)\n",
    "    t = wss/n_samples\n",
    "    bic = (n_samples*np.log(t)) + (thenum*np.log(n_samples))\n",
    "    return bic\n",
    "\n",
    "def calculate_withingroupvariance(predictions,matrix,num_groups):\n",
    "    #matrix components\n",
    "    total = 0\n",
    "    for pred in range(0,num_groups):\n",
    "        predindex = [i for i in range(len(predictions)) if predictions[i] == pred]\n",
    "        submatrix = matrix[predindex,:]\n",
    "        mean = submatrix.mean(axis = 0)\n",
    "        total += np.sum((submatrix - mean)**2)\n",
    "    return total\n",
    "\n",
    "\n",
    "def dopcamyway(mat,tol,norm,max_components=None):\n",
    "    center = mat.sum(0)/mat.shape[0]\n",
    "    zcentered = mat - center\n",
    "    #Always center\n",
    "    if norm:\n",
    "        norm = np.apply_along_axis(lambda x : (np.sum(x * x) / mat.shape[0])**0.5,0,zcentered)\n",
    "        norm = np.where(norm > 1e-8,norm,1)\n",
    "    else:\n",
    "        norm = 1.0\n",
    "    z3 = zcentered/norm #this is what we multiply\n",
    "    z4 = z3*(np.array([1/mat.shape[0]]*z3.shape[0])**0.5).reshape(-1,1)\n",
    "    z5 = ( z4.T @ z4 )\n",
    "    #It's all fine till here...\n",
    "    \n",
    "    \n",
    "    if max_components == None:\n",
    "        max_components = min(mat.shape)\n",
    "    \n",
    "    #I'm not checking for clones within the rows because removal of clones is already an implemented step\n",
    "    #in population structure analysis\n",
    "    w,v = LA.eig(z5)\n",
    "    w = np.real(w)\n",
    "    indices = w.argsort()[::-1]\n",
    "    w = w[indices]\n",
    "    v = np.real(v)\n",
    "    v = v[:,indices]\n",
    "    v = v[:,w/max(w) > tol]\n",
    "    w = w[w/max(w) > tol]\n",
    "    \n",
    "    if len(w) < max_components > min(mat.shape):\n",
    "        eigvals,eigvecs = w,v\n",
    "    else:\n",
    "        eigvals,eigvecs = w[:max_components],v[:,:max_components]\n",
    "    \n",
    "    xu = z3 @ eigvecs\n",
    "    return xu"
   ]
  },
  {
   "cell_type": "code",
   "execution_count": 18,
   "id": "73486a89",
   "metadata": {},
   "outputs": [
    {
     "data": {
      "text/plain": [
       "64617.735618706276"
      ]
     },
     "execution_count": 18,
     "metadata": {},
     "output_type": "execute_result"
    }
   ],
   "source": [
    "mat = Z.values\n",
    "xu = dopcamyway(mat,1e-7,True)\n",
    "#This is the R based dudi.pca implementation\n",
    "#That this works was confirmed by using trace(as.dudi,edit = TRUE) for the adegenet R package\n",
    "#It is rudimentary in that it doesn't set row weights or column weights and just normalizes using standard values\n",
    "\n",
    "\n",
    "#The above function is equivalent to the following in python\n",
    "\n",
    "center = mat.sum(0)/mat.shape[0]\n",
    "zcentered = mat - center\n",
    "norm = np.apply_along_axis(lambda x : (np.sum(x * x) / mat.shape[0])**0.5,0,zcentered)\n",
    "norm = np.where(norm > 1e-8,norm,1)\n",
    "z3 = zcentered/norm\n",
    "z4 = z3*(np.array([1/mat.shape[0]]*z3.shape[0])**0.5).reshape(-1,1)\n",
    "finpca = PCA(svd_solver=\"full\")\n",
    "xu2 = finpca.fit_transform(z3)\n",
    "xu2 = xu2[:,finpca.explained_variance_ratio_ > 1e-5]\n",
    "eigvecs = finpca.components_[:,finpca.explained_variance_ratio_ > 1e-5]\n",
    "eigvals = finpca.singular_values_[finpca.explained_variance_ratio_ > 1e-5]\n",
    "\n",
    "\n",
    "\n",
    "((xu2 - xu)**2).sum()\n",
    "#certain columns carry mirrored signs... not sure why"
   ]
  },
  {
   "cell_type": "code",
   "execution_count": null,
   "id": "1333d796",
   "metadata": {},
   "outputs": [],
   "source": []
  },
  {
   "cell_type": "code",
   "execution_count": 19,
   "id": "292e0ee4",
   "metadata": {
    "scrolled": true
   },
   "outputs": [
    {
     "name": "stderr",
     "output_type": "stream",
     "text": [
      "C:\\Users\\ADMIN\\anaconda3\\lib\\site-packages\\sklearn\\cluster\\_kmeans.py:881: UserWarning: KMeans is known to have a memory leak on Windows with MKL, when there are less chunks than available threads. You can avoid it by setting the environment variable OMP_NUM_THREADS=2.\n",
      "  warnings.warn(\n",
      "C:\\Users\\ADMIN\\anaconda3\\lib\\site-packages\\sklearn\\cluster\\_kmeans.py:881: UserWarning: KMeans is known to have a memory leak on Windows with MKL, when there are less chunks than available threads. You can avoid it by setting the environment variable OMP_NUM_THREADS=2.\n",
      "  warnings.warn(\n"
     ]
    },
    {
     "name": "stdout",
     "output_type": "stream",
     "text": [
      "--- 0.16696715354919434 seconds ---\n",
      "--- 0.13900113105773926 seconds ---\n"
     ]
    },
    {
     "name": "stderr",
     "output_type": "stream",
     "text": [
      "C:\\Users\\ADMIN\\anaconda3\\lib\\site-packages\\sklearn\\cluster\\_kmeans.py:881: UserWarning: KMeans is known to have a memory leak on Windows with MKL, when there are less chunks than available threads. You can avoid it by setting the environment variable OMP_NUM_THREADS=2.\n",
      "  warnings.warn(\n",
      "C:\\Users\\ADMIN\\anaconda3\\lib\\site-packages\\sklearn\\cluster\\_kmeans.py:881: UserWarning: KMeans is known to have a memory leak on Windows with MKL, when there are less chunks than available threads. You can avoid it by setting the environment variable OMP_NUM_THREADS=2.\n",
      "  warnings.warn(\n"
     ]
    },
    {
     "name": "stdout",
     "output_type": "stream",
     "text": [
      "--- 0.1420001983642578 seconds ---\n",
      "--- 0.14100193977355957 seconds ---\n"
     ]
    },
    {
     "name": "stderr",
     "output_type": "stream",
     "text": [
      "C:\\Users\\ADMIN\\anaconda3\\lib\\site-packages\\sklearn\\cluster\\_kmeans.py:881: UserWarning: KMeans is known to have a memory leak on Windows with MKL, when there are less chunks than available threads. You can avoid it by setting the environment variable OMP_NUM_THREADS=2.\n",
      "  warnings.warn(\n",
      "C:\\Users\\ADMIN\\anaconda3\\lib\\site-packages\\sklearn\\cluster\\_kmeans.py:881: UserWarning: KMeans is known to have a memory leak on Windows with MKL, when there are less chunks than available threads. You can avoid it by setting the environment variable OMP_NUM_THREADS=2.\n",
      "  warnings.warn(\n"
     ]
    },
    {
     "name": "stdout",
     "output_type": "stream",
     "text": [
      "--- 0.1809980869293213 seconds ---\n",
      "--- 0.1439964771270752 seconds ---\n"
     ]
    },
    {
     "name": "stderr",
     "output_type": "stream",
     "text": [
      "C:\\Users\\ADMIN\\anaconda3\\lib\\site-packages\\sklearn\\cluster\\_kmeans.py:881: UserWarning: KMeans is known to have a memory leak on Windows with MKL, when there are less chunks than available threads. You can avoid it by setting the environment variable OMP_NUM_THREADS=2.\n",
      "  warnings.warn(\n",
      "C:\\Users\\ADMIN\\anaconda3\\lib\\site-packages\\sklearn\\cluster\\_kmeans.py:881: UserWarning: KMeans is known to have a memory leak on Windows with MKL, when there are less chunks than available threads. You can avoid it by setting the environment variable OMP_NUM_THREADS=2.\n",
      "  warnings.warn(\n"
     ]
    },
    {
     "name": "stdout",
     "output_type": "stream",
     "text": [
      "--- 0.14899992942810059 seconds ---\n",
      "--- 0.14400219917297363 seconds ---\n"
     ]
    },
    {
     "name": "stderr",
     "output_type": "stream",
     "text": [
      "C:\\Users\\ADMIN\\anaconda3\\lib\\site-packages\\sklearn\\cluster\\_kmeans.py:881: UserWarning: KMeans is known to have a memory leak on Windows with MKL, when there are less chunks than available threads. You can avoid it by setting the environment variable OMP_NUM_THREADS=2.\n",
      "  warnings.warn(\n",
      "C:\\Users\\ADMIN\\anaconda3\\lib\\site-packages\\sklearn\\cluster\\_kmeans.py:881: UserWarning: KMeans is known to have a memory leak on Windows with MKL, when there are less chunks than available threads. You can avoid it by setting the environment variable OMP_NUM_THREADS=2.\n",
      "  warnings.warn(\n"
     ]
    },
    {
     "name": "stdout",
     "output_type": "stream",
     "text": [
      "--- 0.14799880981445312 seconds ---\n",
      "--- 0.1549994945526123 seconds ---\n"
     ]
    },
    {
     "name": "stderr",
     "output_type": "stream",
     "text": [
      "C:\\Users\\ADMIN\\anaconda3\\lib\\site-packages\\sklearn\\cluster\\_kmeans.py:881: UserWarning: KMeans is known to have a memory leak on Windows with MKL, when there are less chunks than available threads. You can avoid it by setting the environment variable OMP_NUM_THREADS=2.\n",
      "  warnings.warn(\n",
      "C:\\Users\\ADMIN\\anaconda3\\lib\\site-packages\\sklearn\\cluster\\_kmeans.py:881: UserWarning: KMeans is known to have a memory leak on Windows with MKL, when there are less chunks than available threads. You can avoid it by setting the environment variable OMP_NUM_THREADS=2.\n",
      "  warnings.warn(\n"
     ]
    },
    {
     "name": "stdout",
     "output_type": "stream",
     "text": [
      "--- 0.1529994010925293 seconds ---\n",
      "--- 0.1510002613067627 seconds ---\n"
     ]
    },
    {
     "name": "stderr",
     "output_type": "stream",
     "text": [
      "C:\\Users\\ADMIN\\anaconda3\\lib\\site-packages\\sklearn\\cluster\\_kmeans.py:881: UserWarning: KMeans is known to have a memory leak on Windows with MKL, when there are less chunks than available threads. You can avoid it by setting the environment variable OMP_NUM_THREADS=2.\n",
      "  warnings.warn(\n",
      "C:\\Users\\ADMIN\\anaconda3\\lib\\site-packages\\sklearn\\cluster\\_kmeans.py:881: UserWarning: KMeans is known to have a memory leak on Windows with MKL, when there are less chunks than available threads. You can avoid it by setting the environment variable OMP_NUM_THREADS=2.\n",
      "  warnings.warn(\n"
     ]
    },
    {
     "name": "stdout",
     "output_type": "stream",
     "text": [
      "--- 0.1620016098022461 seconds ---\n",
      "--- 0.16100096702575684 seconds ---\n"
     ]
    },
    {
     "name": "stderr",
     "output_type": "stream",
     "text": [
      "C:\\Users\\ADMIN\\anaconda3\\lib\\site-packages\\sklearn\\cluster\\_kmeans.py:881: UserWarning: KMeans is known to have a memory leak on Windows with MKL, when there are less chunks than available threads. You can avoid it by setting the environment variable OMP_NUM_THREADS=2.\n",
      "  warnings.warn(\n",
      "C:\\Users\\ADMIN\\anaconda3\\lib\\site-packages\\sklearn\\cluster\\_kmeans.py:881: UserWarning: KMeans is known to have a memory leak on Windows with MKL, when there are less chunks than available threads. You can avoid it by setting the environment variable OMP_NUM_THREADS=2.\n",
      "  warnings.warn(\n"
     ]
    },
    {
     "name": "stdout",
     "output_type": "stream",
     "text": [
      "--- 0.17200541496276855 seconds ---\n",
      "--- 0.17300057411193848 seconds ---\n"
     ]
    },
    {
     "name": "stderr",
     "output_type": "stream",
     "text": [
      "C:\\Users\\ADMIN\\anaconda3\\lib\\site-packages\\sklearn\\cluster\\_kmeans.py:881: UserWarning: KMeans is known to have a memory leak on Windows with MKL, when there are less chunks than available threads. You can avoid it by setting the environment variable OMP_NUM_THREADS=2.\n",
      "  warnings.warn(\n",
      "C:\\Users\\ADMIN\\anaconda3\\lib\\site-packages\\sklearn\\cluster\\_kmeans.py:881: UserWarning: KMeans is known to have a memory leak on Windows with MKL, when there are less chunks than available threads. You can avoid it by setting the environment variable OMP_NUM_THREADS=2.\n",
      "  warnings.warn(\n"
     ]
    },
    {
     "name": "stdout",
     "output_type": "stream",
     "text": [
      "--- 0.17199468612670898 seconds ---\n",
      "--- 0.18000197410583496 seconds ---\n"
     ]
    },
    {
     "name": "stderr",
     "output_type": "stream",
     "text": [
      "C:\\Users\\ADMIN\\anaconda3\\lib\\site-packages\\sklearn\\cluster\\_kmeans.py:881: UserWarning: KMeans is known to have a memory leak on Windows with MKL, when there are less chunks than available threads. You can avoid it by setting the environment variable OMP_NUM_THREADS=2.\n",
      "  warnings.warn(\n",
      "C:\\Users\\ADMIN\\anaconda3\\lib\\site-packages\\sklearn\\cluster\\_kmeans.py:881: UserWarning: KMeans is known to have a memory leak on Windows with MKL, when there are less chunks than available threads. You can avoid it by setting the environment variable OMP_NUM_THREADS=2.\n",
      "  warnings.warn(\n"
     ]
    },
    {
     "name": "stdout",
     "output_type": "stream",
     "text": [
      "--- 0.17900514602661133 seconds ---\n",
      "--- 0.1820061206817627 seconds ---\n"
     ]
    },
    {
     "name": "stderr",
     "output_type": "stream",
     "text": [
      "C:\\Users\\ADMIN\\anaconda3\\lib\\site-packages\\sklearn\\cluster\\_kmeans.py:881: UserWarning: KMeans is known to have a memory leak on Windows with MKL, when there are less chunks than available threads. You can avoid it by setting the environment variable OMP_NUM_THREADS=2.\n",
      "  warnings.warn(\n",
      "C:\\Users\\ADMIN\\anaconda3\\lib\\site-packages\\sklearn\\cluster\\_kmeans.py:881: UserWarning: KMeans is known to have a memory leak on Windows with MKL, when there are less chunks than available threads. You can avoid it by setting the environment variable OMP_NUM_THREADS=2.\n",
      "  warnings.warn(\n"
     ]
    },
    {
     "name": "stdout",
     "output_type": "stream",
     "text": [
      "--- 0.18400025367736816 seconds ---\n",
      "--- 0.1939983367919922 seconds ---\n"
     ]
    },
    {
     "name": "stderr",
     "output_type": "stream",
     "text": [
      "C:\\Users\\ADMIN\\anaconda3\\lib\\site-packages\\sklearn\\cluster\\_kmeans.py:881: UserWarning: KMeans is known to have a memory leak on Windows with MKL, when there are less chunks than available threads. You can avoid it by setting the environment variable OMP_NUM_THREADS=2.\n",
      "  warnings.warn(\n",
      "C:\\Users\\ADMIN\\anaconda3\\lib\\site-packages\\sklearn\\cluster\\_kmeans.py:881: UserWarning: KMeans is known to have a memory leak on Windows with MKL, when there are less chunks than available threads. You can avoid it by setting the environment variable OMP_NUM_THREADS=2.\n",
      "  warnings.warn(\n"
     ]
    },
    {
     "name": "stdout",
     "output_type": "stream",
     "text": [
      "--- 0.18799638748168945 seconds ---\n",
      "--- 0.19299817085266113 seconds ---\n"
     ]
    },
    {
     "name": "stderr",
     "output_type": "stream",
     "text": [
      "C:\\Users\\ADMIN\\anaconda3\\lib\\site-packages\\sklearn\\cluster\\_kmeans.py:881: UserWarning: KMeans is known to have a memory leak on Windows with MKL, when there are less chunks than available threads. You can avoid it by setting the environment variable OMP_NUM_THREADS=2.\n",
      "  warnings.warn(\n"
     ]
    },
    {
     "name": "stdout",
     "output_type": "stream",
     "text": [
      "--- 0.19700288772583008 seconds ---\n",
      "--- 0.18899965286254883 seconds ---\n"
     ]
    },
    {
     "name": "stderr",
     "output_type": "stream",
     "text": [
      "C:\\Users\\ADMIN\\anaconda3\\lib\\site-packages\\sklearn\\cluster\\_kmeans.py:881: UserWarning: KMeans is known to have a memory leak on Windows with MKL, when there are less chunks than available threads. You can avoid it by setting the environment variable OMP_NUM_THREADS=2.\n",
      "  warnings.warn(\n",
      "C:\\Users\\ADMIN\\anaconda3\\lib\\site-packages\\sklearn\\cluster\\_kmeans.py:881: UserWarning: KMeans is known to have a memory leak on Windows with MKL, when there are less chunks than available threads. You can avoid it by setting the environment variable OMP_NUM_THREADS=2.\n",
      "  warnings.warn(\n",
      "C:\\Users\\ADMIN\\anaconda3\\lib\\site-packages\\sklearn\\cluster\\_kmeans.py:881: UserWarning: KMeans is known to have a memory leak on Windows with MKL, when there are less chunks than available threads. You can avoid it by setting the environment variable OMP_NUM_THREADS=2.\n",
      "  warnings.warn(\n"
     ]
    },
    {
     "name": "stdout",
     "output_type": "stream",
     "text": [
      "--- 0.19600439071655273 seconds ---\n",
      "--- 0.19699859619140625 seconds ---\n"
     ]
    },
    {
     "name": "stderr",
     "output_type": "stream",
     "text": [
      "C:\\Users\\ADMIN\\anaconda3\\lib\\site-packages\\sklearn\\cluster\\_kmeans.py:881: UserWarning: KMeans is known to have a memory leak on Windows with MKL, when there are less chunks than available threads. You can avoid it by setting the environment variable OMP_NUM_THREADS=2.\n",
      "  warnings.warn(\n"
     ]
    },
    {
     "name": "stdout",
     "output_type": "stream",
     "text": [
      "--- 0.20800185203552246 seconds ---\n"
     ]
    },
    {
     "name": "stderr",
     "output_type": "stream",
     "text": [
      "C:\\Users\\ADMIN\\anaconda3\\lib\\site-packages\\sklearn\\cluster\\_kmeans.py:881: UserWarning: KMeans is known to have a memory leak on Windows with MKL, when there are less chunks than available threads. You can avoid it by setting the environment variable OMP_NUM_THREADS=2.\n",
      "  warnings.warn(\n"
     ]
    },
    {
     "name": "stdout",
     "output_type": "stream",
     "text": [
      "--- 0.21200299263000488 seconds ---\n"
     ]
    },
    {
     "name": "stderr",
     "output_type": "stream",
     "text": [
      "C:\\Users\\ADMIN\\anaconda3\\lib\\site-packages\\sklearn\\cluster\\_kmeans.py:881: UserWarning: KMeans is known to have a memory leak on Windows with MKL, when there are less chunks than available threads. You can avoid it by setting the environment variable OMP_NUM_THREADS=2.\n",
      "  warnings.warn(\n"
     ]
    },
    {
     "name": "stdout",
     "output_type": "stream",
     "text": [
      "--- 0.21599984169006348 seconds ---\n"
     ]
    },
    {
     "name": "stderr",
     "output_type": "stream",
     "text": [
      "C:\\Users\\ADMIN\\anaconda3\\lib\\site-packages\\sklearn\\cluster\\_kmeans.py:881: UserWarning: KMeans is known to have a memory leak on Windows with MKL, when there are less chunks than available threads. You can avoid it by setting the environment variable OMP_NUM_THREADS=2.\n",
      "  warnings.warn(\n"
     ]
    },
    {
     "name": "stdout",
     "output_type": "stream",
     "text": [
      "--- 0.2180018424987793 seconds ---\n"
     ]
    },
    {
     "name": "stderr",
     "output_type": "stream",
     "text": [
      "C:\\Users\\ADMIN\\anaconda3\\lib\\site-packages\\sklearn\\cluster\\_kmeans.py:881: UserWarning: KMeans is known to have a memory leak on Windows with MKL, when there are less chunks than available threads. You can avoid it by setting the environment variable OMP_NUM_THREADS=2.\n",
      "  warnings.warn(\n"
     ]
    },
    {
     "name": "stdout",
     "output_type": "stream",
     "text": [
      "--- 0.2089996337890625 seconds ---\n"
     ]
    },
    {
     "name": "stderr",
     "output_type": "stream",
     "text": [
      "C:\\Users\\ADMIN\\anaconda3\\lib\\site-packages\\sklearn\\cluster\\_kmeans.py:881: UserWarning: KMeans is known to have a memory leak on Windows with MKL, when there are less chunks than available threads. You can avoid it by setting the environment variable OMP_NUM_THREADS=2.\n",
      "  warnings.warn(\n"
     ]
    },
    {
     "name": "stdout",
     "output_type": "stream",
     "text": [
      "--- 0.22500061988830566 seconds ---\n"
     ]
    },
    {
     "name": "stderr",
     "output_type": "stream",
     "text": [
      "C:\\Users\\ADMIN\\anaconda3\\lib\\site-packages\\sklearn\\cluster\\_kmeans.py:881: UserWarning: KMeans is known to have a memory leak on Windows with MKL, when there are less chunks than available threads. You can avoid it by setting the environment variable OMP_NUM_THREADS=2.\n",
      "  warnings.warn(\n"
     ]
    },
    {
     "name": "stdout",
     "output_type": "stream",
     "text": [
      "--- 0.20600128173828125 seconds ---\n",
      "--- 0.20300006866455078 seconds ---\n"
     ]
    },
    {
     "name": "stderr",
     "output_type": "stream",
     "text": [
      "C:\\Users\\ADMIN\\anaconda3\\lib\\site-packages\\sklearn\\cluster\\_kmeans.py:881: UserWarning: KMeans is known to have a memory leak on Windows with MKL, when there are less chunks than available threads. You can avoid it by setting the environment variable OMP_NUM_THREADS=2.\n",
      "  warnings.warn(\n",
      "C:\\Users\\ADMIN\\anaconda3\\lib\\site-packages\\sklearn\\cluster\\_kmeans.py:881: UserWarning: KMeans is known to have a memory leak on Windows with MKL, when there are less chunks than available threads. You can avoid it by setting the environment variable OMP_NUM_THREADS=2.\n",
      "  warnings.warn(\n"
     ]
    },
    {
     "name": "stdout",
     "output_type": "stream",
     "text": [
      "--- 0.20600008964538574 seconds ---\n"
     ]
    },
    {
     "name": "stderr",
     "output_type": "stream",
     "text": [
      "C:\\Users\\ADMIN\\anaconda3\\lib\\site-packages\\sklearn\\cluster\\_kmeans.py:881: UserWarning: KMeans is known to have a memory leak on Windows with MKL, when there are less chunks than available threads. You can avoid it by setting the environment variable OMP_NUM_THREADS=2.\n",
      "  warnings.warn(\n"
     ]
    },
    {
     "name": "stdout",
     "output_type": "stream",
     "text": [
      "--- 0.20399975776672363 seconds ---\n"
     ]
    },
    {
     "name": "stderr",
     "output_type": "stream",
     "text": [
      "C:\\Users\\ADMIN\\anaconda3\\lib\\site-packages\\sklearn\\cluster\\_kmeans.py:881: UserWarning: KMeans is known to have a memory leak on Windows with MKL, when there are less chunks than available threads. You can avoid it by setting the environment variable OMP_NUM_THREADS=2.\n",
      "  warnings.warn(\n"
     ]
    },
    {
     "name": "stdout",
     "output_type": "stream",
     "text": [
      "--- 0.21199870109558105 seconds ---\n"
     ]
    }
   ],
   "source": [
    "reduction = 30 #we'd need to look at the PCA explained variance plot to make this decision!\n",
    "n_samples = Z.shape[0]\n",
    "\n",
    "finxu = xu[:,:reduction] #either xu or xu2\n",
    "bics = []\n",
    "allpreds = []\n",
    "\n",
    "naivepreds = [0]*Z.shape[0]\n",
    "bics.append(getbic(naivepreds,finxu,1))\n",
    "allpreds.append(naivepreds)\n",
    "#For other groups\n",
    "n_groups = range(2,41)\n",
    "\n",
    "import time\n",
    "\n",
    "\n",
    "for thenum in n_groups:\n",
    "    start_time = time.time()\n",
    "    kmeaner = KMeans(n_clusters=thenum, init='k-means++', n_init=10, max_iter=1000, \n",
    "                     tol=0.0001, verbose=0, random_state=None, copy_x=True, algorithm='full')\n",
    "    prediction = kmeaner.fit_predict(finxu)\n",
    "    print(\"--- %s seconds ---\" % (time.time() - start_time))\n",
    "#     #projector matrix = H*inverse((H_transpose*D*H))*H_transpose*D\n",
    "#     #D is a weight matrix for each sample\n",
    "#     D = np.identity(Z2.shape[1])/Z2.shape[1]\n",
    "#     #H is a n x g matrix specifying which groups the samples belong to\n",
    "#     #This is to be calculated using \n",
    "#     forH = np.random.randint(0,thenum,size=n_samples)\n",
    "#     coords = np.array([[i,prediction[i]] for i in range(n_samples)])\n",
    "#     H = np.zeros(shape=(n_samples,thenum))\n",
    "#     H[tuple(coords.T)] = 1\n",
    "    \n",
    "#     #projector matrix\n",
    "#     P = H @ np.linalg.inv(H.T @ D @ H) @ H.T @ D\n",
    "    \n",
    "#     pre1 = np.identity(n=P.shape[0]) - P\n",
    "#     W = Z.values.T @ pre1.T @ D @ pre1 @ Z.values\n",
    "#     #solution to DAPC is the eigenvectors of the matrix below. This is unused right now\n",
    "#     geteigen = P @ xu @ np.linalg.inv(m_out2.T @ W @ m_out2) @ xu.T @ P.T @ D\n",
    "    wss = calculate_withingroupvariance(prediction,finxu,thenum)\n",
    "    \n",
    "    t = wss/n_samples\n",
    "#   wss2 = np.trace(m_out2.T @ W @ m_out2)\n",
    "    bic = getbic(prediction,finxu,thenum)\n",
    "    bics.append(bic)\n",
    "    #Figure out which BIC is the best?\n",
    "    allpreds.append(prediction)\n",
    "\n",
    "n_groups = [1] + list(n_groups)"
   ]
  },
  {
   "cell_type": "code",
   "execution_count": 24,
   "id": "86b890e7",
   "metadata": {},
   "outputs": [
    {
     "data": {
      "text/plain": [
       "[<matplotlib.lines.Line2D at 0x18b9b241520>]"
      ]
     },
     "execution_count": 24,
     "metadata": {},
     "output_type": "execute_result"
    },
    {
     "data": {
      "image/png": "[encoded data removed]",
      "text/plain": [
       "<Figure size 432x288 with 1 Axes>"
      ]
     },
     "metadata": {
      "needs_background": "light"
     },
     "output_type": "display_data"
    }
   ],
   "source": [
    "plt.plot(n_groups,bics)\n",
    "#In terms of output, not much difference between xu and xu2... although I'm not sure that can be generalized"
   ]
  },
  {
   "cell_type": "code",
   "execution_count": 31,
   "id": "612106f0",
   "metadata": {},
   "outputs": [
    {
     "data": {
      "image/png": "[encoded data removed]",
      "text/plain": [
       "<Figure size 432x288 with 1 Axes>"
      ]
     },
     "metadata": {
      "needs_background": "light"
     },
     "output_type": "display_data"
    }
   ],
   "source": [
    "fig,ax = plt.subplots()\n",
    "prediction = allpreds[14]\n",
    "for mn in set(prediction):\n",
    "    ax.scatter(finxu[[i for i in range(len(prediction)) if prediction[i] == mn],0],\n",
    "               finxu[[i for i in range(len(prediction)) if prediction[i] == mn],1])\n",
    "plt.show()"
   ]
  },
  {
   "cell_type": "code",
   "execution_count": null,
   "id": "cec62bed",
   "metadata": {},
   "outputs": [],
   "source": [
    "#3 weird outliers...? what happened here?"
   ]
  },
  {
   "cell_type": "code",
   "execution_count": 203,
   "id": "13a61001",
   "metadata": {},
   "outputs": [],
   "source": [
    "%matplotlib notebook"
   ]
  },
  {
   "cell_type": "code",
   "execution_count": 32,
   "id": "2b747f06",
   "metadata": {},
   "outputs": [
    {
     "data": {
      "image/png": "[encoded data removed]",
      "text/plain": [
       "<Figure size 432x288 with 2 Axes>"
      ]
     },
     "metadata": {
      "needs_background": "light"
     },
     "output_type": "display_data"
    }
   ],
   "source": [
    "fig,axs = plt.subplots(1,2)\n",
    "ax,ax2 = axs\n",
    "prediction = allpreds[14]\n",
    "for mn in set(prediction):\n",
    "    ax.scatter(xu[[i for i in range(len(prediction)) if prediction[i] == mn],0],\n",
    "               xu[[i for i in range(len(prediction)) if prediction[i] == mn],1])\n",
    "    \n",
    "    ax2.scatter(xu2[[i for i in range(len(prediction)) if prediction[i] == mn],0],\n",
    "               xu2[[i for i in range(len(prediction)) if prediction[i] == mn],1])\n",
    "plt.show()"
   ]
  },
  {
   "cell_type": "code",
   "execution_count": null,
   "id": "e43f16dc",
   "metadata": {},
   "outputs": [],
   "source": []
  },
  {
   "cell_type": "code",
   "execution_count": null,
   "id": "03618abc",
   "metadata": {
    "scrolled": true
   },
   "outputs": [],
   "source": []
  },
  {
   "cell_type": "code",
   "execution_count": null,
   "id": "47e6c11e",
   "metadata": {},
   "outputs": [],
   "source": []
  },
  {
   "cell_type": "code",
   "execution_count": null,
   "id": "cc4fdeca",
   "metadata": {},
   "outputs": [],
   "source": []
  },
  {
   "cell_type": "code",
   "execution_count": null,
   "id": "08bf4a82",
   "metadata": {},
   "outputs": [],
   "source": []
  }
 ],
 "metadata": {
  "kernelspec": {
   "display_name": "Python 3",
   "language": "python",
   "name": "python3"
  },
  "language_info": {
   "codemirror_mode": {
    "name": "ipython",
    "version": 3
   },
   "file_extension": ".py",
   "mimetype": "text/x-python",
   "name": "python",
   "nbconvert_exporter": "python",
   "pygments_lexer": "ipython3",
   "version": "3.8.8"
  }
 },
 "nbformat": 4,
 "nbformat_minor": 5
}
